{
 "cells": [
  {
   "cell_type": "markdown",
   "id": "f0504025",
   "metadata": {},
   "source": [
    "# Python Advanced Assignment_9 Solution"
   ]
  },
  {
   "cell_type": "markdown",
   "id": "9b8f2a42",
   "metadata": {},
   "source": [
    "#### Q1. What is the concept of a metaclass?"
   ]
  },
  {
   "cell_type": "markdown",
   "id": "9550fd00",
   "metadata": {},
   "source": [
    "__Ans:__ Metaclass in Python is a class of a class that defines how a class behaves. A class is itself a instance of Metaclass, and any Instance of Class in Python is an Instance of type metaclass. E.g. Type of of __int__, __str__, __float__, __list__, __tuple__ and many more is of metaclass type."
   ]
  },
  {
   "cell_type": "markdown",
   "id": "f97ca035",
   "metadata": {},
   "source": [
    "#### Q2. What is the best way to declare a class's metaclass?"
   ]
  },
  {
   "cell_type": "markdown",
   "id": "aab18aa3",
   "metadata": {},
   "source": [
    "__Ans:__ A way to declare a class’ metaclass is by using metaclass keyword in class definition."
   ]
  },
  {
   "cell_type": "code",
   "execution_count": 1,
   "id": "32c39f37",
   "metadata": {},
   "outputs": [
    {
     "name": "stdout",
     "output_type": "stream",
     "text": [
      "<class 'type'>\n",
      "<class '__main__.meta'>\n"
     ]
    }
   ],
   "source": [
    "class meta(type):\n",
    "    pass\n",
    "class class_meta(metaclass=meta):\n",
    "    pass\n",
    "print(type(meta))\n",
    "print(type(class_meta))"
   ]
  },
  {
   "cell_type": "markdown",
   "id": "069536ca",
   "metadata": {},
   "source": [
    "#### Q3. How do class decorators overlap with metaclasses for handling classes ?"
   ]
  },
  {
   "cell_type": "markdown",
   "id": "b34db2af",
   "metadata": {},
   "source": [
    "__Ans:__ Anything you can do with a class decorator, you can of course do with a custom metaclasses (just apply the functionality of the \"decorator function\", i.e., the one that takes a class object and modifies it, in the course of the metaclass's __new__ or __init__ that make the class object!)."
   ]
  },
  {
   "cell_type": "markdown",
   "id": "1c78aef1",
   "metadata": {},
   "source": [
    "#### Q4. How do class decorators overlap with metaclasses for handling instances?"
   ]
  },
  {
   "cell_type": "markdown",
   "id": "d781f224",
   "metadata": {},
   "source": [
    "__Ans:__ Anything you can do with a class decorator, you can of course do with a custom metaclass (just apply the functionality of the \"decorator function\", i.e., the one that takes a class object and modifies it, in the course of the metaclass's __new__ or __init__ that make the class object!)."
   ]
  }
 ],
 "metadata": {
  "kernelspec": {
   "display_name": "Python 3",
   "language": "python",
   "name": "python3"
  },
  "language_info": {
   "codemirror_mode": {
    "name": "ipython",
    "version": 3
   },
   "file_extension": ".py",
   "mimetype": "text/x-python",
   "name": "python",
   "nbconvert_exporter": "python",
   "pygments_lexer": "ipython3",
   "version": "3.8.8"
  }
 },
 "nbformat": 4,
 "nbformat_minor": 5
}
