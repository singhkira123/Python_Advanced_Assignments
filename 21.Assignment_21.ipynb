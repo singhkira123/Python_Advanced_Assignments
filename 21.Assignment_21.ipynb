{
 "cells": [
  {
   "cell_type": "markdown",
   "id": "97f6913d",
   "metadata": {},
   "source": [
    "# Python Advanced Assignment_21 Solution"
   ]
  },
  {
   "cell_type": "markdown",
   "id": "08a18167",
   "metadata": {},
   "source": [
    "#### Q1. What is a probability distribution, exactly? If the values are meant to be random, how can you predict them at all?"
   ]
  },
  {
   "cell_type": "markdown",
   "id": "60f91bbf",
   "metadata": {},
   "source": [
    "__Ans:__ A probability distribution describes how a random variable is distributed.\n",
    "\n",
    "It tells us which values a random variable is most likely to take on and which values are less likely. Based on the previous data and the occurences of the random event, we can predict the outcome in terms of probabilities."
   ]
  },
  {
   "cell_type": "markdown",
   "id": "cc9ec1fd",
   "metadata": {},
   "source": [
    "#### Q2. Is there a distinction between true random numbers and pseudo-random numbers, if there is one? Why are the latter considered “good enough”?"
   ]
  },
  {
   "cell_type": "markdown",
   "id": "5986c45c",
   "metadata": {},
   "source": [
    "__Ans:__ True Random Numbers are true physical values while pseudo-random numbers are generated internally by a program . Latter is considered good enough as they have sort of uniform distribution."
   ]
  },
  {
   "cell_type": "markdown",
   "id": "aa39bac5",
   "metadata": {},
   "source": [
    "#### Q3. What are the two main factors that influence the behaviour of a &quot;normal&quot; probability distribution?"
   ]
  },
  {
   "cell_type": "markdown",
   "id": "b0795725",
   "metadata": {},
   "source": [
    "__Ans:__ Normal Probability Distribution are influenced by two factors mean and the variance."
   ]
  },
  {
   "cell_type": "markdown",
   "id": "51f00997",
   "metadata": {},
   "source": [
    "#### Q4. Provide a real-life example of a normal distribution ?"
   ]
  },
  {
   "cell_type": "markdown",
   "id": "30b7539d",
   "metadata": {},
   "source": [
    "__Ans:__ A Real-life example of a normal distribution are heights or blood pressure measurements"
   ]
  },
  {
   "cell_type": "markdown",
   "id": "2d257633",
   "metadata": {},
   "source": [
    "#### Q5. In the short term, how can you expect a probability distribution to behave? What do you think will happen as the number of trials grows ?"
   ]
  },
  {
   "cell_type": "markdown",
   "id": "c18ab65a",
   "metadata": {},
   "source": [
    "__Ans:__ Variance will decrease with number of trials"
   ]
  },
  {
   "cell_type": "markdown",
   "id": "0d0e908b",
   "metadata": {},
   "source": [
    "#### Q6. What kind of object can be shuffled by using random.shuffle ?"
   ]
  },
  {
   "cell_type": "markdown",
   "id": "8c7d4061",
   "metadata": {},
   "source": [
    "__Ans:__ lists (list), strings (str) and tuples (tuple) objects can be shuffled by using random.shuffle."
   ]
  },
  {
   "cell_type": "markdown",
   "id": "bf22afe5",
   "metadata": {},
   "source": [
    "#### Q7. Describe the math package's general categories of functions ?"
   ]
  },
  {
   "cell_type": "markdown",
   "id": "cca37769",
   "metadata": {},
   "source": [
    "__Ans:__ The Math package's general categories of functions are:\n",
    "\n",
    "1.Trigonometric functions\n",
    "\n",
    "2.Quadratic functions\n",
    "\n",
    "3.Exponential functions\n",
    "\n",
    "4.Hyperbolic functions\n",
    "\n",
    "5.Periodic functions\n",
    "\n",
    "6.Arithmetic functions\n",
    "\n",
    "7.Logarithimic functions\n",
    "\n",
    "8.Conversions to Integer"
   ]
  },
  {
   "cell_type": "markdown",
   "id": "501ea7c8",
   "metadata": {},
   "source": [
    "#### Q8. What is the relationship between exponentiation and logarithms ?"
   ]
  },
  {
   "cell_type": "markdown",
   "id": "7e3b2b09",
   "metadata": {},
   "source": [
    "__Ans:__ Exponentiation and logarithms are inverse of each other."
   ]
  },
  {
   "cell_type": "markdown",
   "id": "dc614e01",
   "metadata": {},
   "source": [
    "#### Q9. What are the three logarithmic functions that Python supports ?"
   ]
  },
  {
   "cell_type": "markdown",
   "id": "7b3b974e",
   "metadata": {},
   "source": [
    "__Ans:__ The Three Logarithmic Functions that Python supports are:\n",
    "\n",
    "1.log2(x) - logarithmic value of x to base 2\n",
    "\n",
    "2.log10(x) - logarithmic value of x to base 10\n",
    "\n",
    "3.log1p(a) - This function is used to compute logarithm(1+a) ."
   ]
  }
 ],
 "metadata": {
  "kernelspec": {
   "display_name": "Python 3",
   "language": "python",
   "name": "python3"
  },
  "language_info": {
   "codemirror_mode": {
    "name": "ipython",
    "version": 3
   },
   "file_extension": ".py",
   "mimetype": "text/x-python",
   "name": "python",
   "nbconvert_exporter": "python",
   "pygments_lexer": "ipython3",
   "version": "3.8.8"
  }
 },
 "nbformat": 4,
 "nbformat_minor": 5
}
