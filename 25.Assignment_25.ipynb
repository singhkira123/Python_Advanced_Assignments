{
 "cells": [
  {
   "cell_type": "markdown",
   "id": "4786febb",
   "metadata": {},
   "source": [
    "# Python Advanced Assignment_25 Solution"
   ]
  },
  {
   "cell_type": "markdown",
   "id": "ebbe5af4",
   "metadata": {},
   "source": [
    "#### Q1. What is the distinction between a numpy array and a pandas data frame? Is there a way to convert between the two if there is?"
   ]
  },
  {
   "cell_type": "markdown",
   "id": "5fdb3ff2",
   "metadata": {},
   "source": [
    "__Ans:__ Numpy Ndarray provides a lot of convenient and optimized methods for performing several mathematical operations on vectors.\n",
    "\n",
    "Pandas Dataframe is an in-memory 2-dimensional tabular representation of data. In simpler words, it can be seen as a spreadsheet having rows and columns.\n",
    "\n",
    "Conversion : Dataframe=pandas.DataFrame(array)"
   ]
  },
  {
   "cell_type": "markdown",
   "id": "f521c5f2",
   "metadata": {},
   "source": [
    "#### Q2. Identify some of the plotting techniques that are used to produce a stock-market chart ?"
   ]
  },
  {
   "cell_type": "markdown",
   "id": "7818203b",
   "metadata": {},
   "source": [
    "__Ans:__ Bar chart, Line Chart are used for plotting."
   ]
  },
  {
   "cell_type": "markdown",
   "id": "b99e3de9",
   "metadata": {},
   "source": [
    "#### Q3. Why is it essential to print a legend on a stock market chart ?"
   ]
  },
  {
   "cell_type": "markdown",
   "id": "b77baf85",
   "metadata": {},
   "source": [
    "__Ans:___ Legend will help comparison between different stocks, so will be essential on a stock market chart"
   ]
  },
  {
   "cell_type": "markdown",
   "id": "0ae20786",
   "metadata": {},
   "source": [
    "#### Q4. What is the best way to limit the length of a pandas data frame to less than a year ?"
   ]
  },
  {
   "cell_type": "markdown",
   "id": "dcba45f6",
   "metadata": {},
   "source": [
    "__Ans:__  We can use start and end parameters for that. In start we write the date from where we are starting and at the end we write the end date. SO within this span we can restric the duration.Also we can use the parameters like periods for how much times we need the duration and we can also use the frequency parameter."
   ]
  },
  {
   "cell_type": "markdown",
   "id": "581ffb69",
   "metadata": {},
   "source": [
    "#### Q6. What is the definition of a 180-day moving average ?"
   ]
  },
  {
   "cell_type": "markdown",
   "id": "0d825307",
   "metadata": {},
   "source": [
    "__Ans:__ A moving average is a statistic that captures the average change in a data series over time. In finance, moving averages are often used by technical analysts to keep track of price trends for specific securities.\n",
    "\n",
    "The 180-day moving average is represented as a line on charts and represents the average price over the past 180 days. The moving average can give traders a sense regarding whether the trend is up or down, while also identifying potential support or resistance areas."
   ]
  },
  {
   "cell_type": "markdown",
   "id": "8881af3e",
   "metadata": {},
   "source": [
    "#### Q7. Did the chapter's final example use \"indirect\" importing? If so, how exactly do you do it?"
   ]
  },
  {
   "cell_type": "markdown",
   "id": "91ae1b88",
   "metadata": {},
   "source": [
    "__Ans__  Optimum use of resources: Foreign trade helps in the optimum use of natural resources and avoids wastage's of resources. It ensures the presence of stable price by avoiding wide fluctuations in prices\n",
    "\n",
    "Typically, indirect exporting involves a Canadian company that sells to another Canadian company that, in turn, incorporates those products or services into their own value chain for export."
   ]
  }
 ],
 "metadata": {
  "kernelspec": {
   "display_name": "Python 3",
   "language": "python",
   "name": "python3"
  },
  "language_info": {
   "codemirror_mode": {
    "name": "ipython",
    "version": 3
   },
   "file_extension": ".py",
   "mimetype": "text/x-python",
   "name": "python",
   "nbconvert_exporter": "python",
   "pygments_lexer": "ipython3",
   "version": "3.8.8"
  }
 },
 "nbformat": 4,
 "nbformat_minor": 5
}
